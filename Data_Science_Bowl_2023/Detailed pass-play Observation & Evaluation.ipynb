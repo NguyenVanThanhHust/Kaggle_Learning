{
 "cells": [
  {
   "cell_type": "markdown",
   "id": "f22bfdac",
   "metadata": {},
   "source": [
    "https://www.kaggle.com/code/lichtlab/detailed-pass-play-observation-evaluation"
   ]
  },
  {
   "cell_type": "code",
   "execution_count": 1,
   "id": "a921b801",
   "metadata": {},
   "outputs": [],
   "source": [
    "import pandas as pd\n",
    "import numpy as np\n",
    "import plotly.graph_objects as go\n",
    "import plotly.express as px\n",
    "from os.path import join, isdir, isfile\n",
    "import os"
   ]
  },
  {
   "cell_type": "code",
   "execution_count": 2,
   "id": "3c95bf91",
   "metadata": {},
   "outputs": [
    {
     "name": "stdout",
     "output_type": "stream",
     "text": [
      "../../\n"
     ]
    }
   ],
   "source": [
    "DATA_FOLDER = \"../../\"\n",
    "if not isdir(DATA_FOLDER):\n",
    "    DATA_FOLDER = \"/kaggle/input\"\n",
    "print(DATA_FOLDER)"
   ]
  },
  {
   "cell_type": "code",
   "execution_count": 7,
   "id": "b827244c",
   "metadata": {},
   "outputs": [
    {
     "name": "stdout",
     "output_type": "stream",
     "text": [
      "Available data: \n",
      "['games.csv', 'pffScoutingData.csv', 'players.csv', 'plays.csv', 'week1.csv', 'week2.csv', 'week3.csv', 'week4.csv', 'week5.csv', 'week6.csv', 'week7.csv', 'week8.csv']\n"
     ]
    }
   ],
   "source": [
    "print(\"Available data: \")\n",
    "print(next(os.walk(join(DATA_FOLDER, \"nfl-big-data-bowl-2023\")))[2])"
   ]
  },
  {
   "cell_type": "code",
   "execution_count": 3,
   "id": "b29e282d",
   "metadata": {},
   "outputs": [],
   "source": [
    "# Read In csvs\n",
    "games = pd.read_csv(join(DATA_FOLDER, \"nfl-big-data-bowl-2023/games.csv\"))\n",
    "plays = pd.read_csv(join(DATA_FOLDER, \"nfl-big-data-bowl-2023/plays.csv\"))\n",
    "players = pd.read_csv(join(DATA_FOLDER, \"nfl-big-data-bowl-2023/players.csv\"))\n",
    "week1 = pd.read_csv(join(DATA_FOLDER, \"nfl-big-data-bowl-2023/week1.csv\"))\n",
    "pffScoutingData = pd.read_csv(join(DATA_FOLDER, \"nfl-big-data-bowl-2023/pffScoutingData.csv\"))\n",
    "joined_all = pd.merge(games,plays,how=\"inner\",on = \"gameId\")\n",
    "joined_all = pd.merge(joined_all,week1,how=\"inner\",on=[\"gameId\",\"playId\"])\n",
    "# left join on players to keep football records\n",
    "joined_all = pd.merge(joined_all,players,how=\"left\",on = \"nflId\")\n",
    "play_focus = 97\n",
    "focused_df = joined_all[(joined_all.playId==play_focus)]"
   ]
  },
  {
   "cell_type": "code",
   "execution_count": 4,
   "id": "de1d40f8",
   "metadata": {},
   "outputs": [],
   "source": [
    "colors = {\n",
    "    'ARI':\"#97233F\", \n",
    "    'ATL':\"#A71930\", \n",
    "    'BAL':'#241773', \n",
    "    'BUF':\"#00338D\", \n",
    "    'CAR':\"#0085CA\", \n",
    "    'CHI':\"#C83803\", \n",
    "    'CIN':\"#FB4F14\", \n",
    "    'CLE':\"#311D00\", \n",
    "    'DAL':'#003594',\n",
    "    'DEN':\"#FB4F14\", \n",
    "    'DET':\"#0076B6\", \n",
    "    'GB':\"#203731\", \n",
    "    'HOU':\"#03202F\", \n",
    "    'IND':\"#002C5F\", \n",
    "    'JAX':\"#9F792C\", \n",
    "    'KC':\"#E31837\", \n",
    "    'LA':\"#003594\", \n",
    "    'LAC':\"#0080C6\", \n",
    "    'LV':\"#000000\",\n",
    "    'MIA':\"#008E97\", \n",
    "    'MIN':\"#4F2683\", \n",
    "    'NE':\"#002244\", \n",
    "    'NO':\"#D3BC8D\", \n",
    "    'NYG':\"#0B2265\", \n",
    "    'NYJ':\"#125740\", \n",
    "    'PHI':\"#004C54\", \n",
    "    'PIT':\"#FFB612\", \n",
    "    'SEA':\"#69BE28\", \n",
    "    'SF':\"#AA0000\",\n",
    "    'TB':'#D50A0A', \n",
    "    'TEN':\"#4B92DB\", \n",
    "    'WAS':\"#5A1414\", \n",
    "    'football':'#CBB67C'\n",
    "}"
   ]
  },
  {
   "cell_type": "code",
   "execution_count": null,
   "id": "29ecd5fb",
   "metadata": {},
   "outputs": [],
   "source": [
    "def animate_play(tracking_df, play_df, payers, )"
   ]
  }
 ],
 "metadata": {
  "kernelspec": {
   "display_name": "Python 3 (ipykernel)",
   "language": "python",
   "name": "python3"
  },
  "language_info": {
   "codemirror_mode": {
    "name": "ipython",
    "version": 3
   },
   "file_extension": ".py",
   "mimetype": "text/x-python",
   "name": "python",
   "nbconvert_exporter": "python",
   "pygments_lexer": "ipython3",
   "version": "3.8.13"
  }
 },
 "nbformat": 4,
 "nbformat_minor": 5
}
