{
 "cells": [
  {
   "cell_type": "markdown",
   "id": "0ec9716e",
   "metadata": {},
   "source": [
    "https://www.kaggle.com/code/nickwan/creating-player-stats-using-tracking-data"
   ]
  },
  {
   "cell_type": "code",
   "execution_count": 1,
   "id": "9e713395",
   "metadata": {},
   "outputs": [],
   "source": [
    "import pandas as pd\n",
    "import numpy as np\n",
    "import plotly.graph_objects as go\n",
    "import plotly.express as px\n",
    "from os.path import join, isdir, isfile\n",
    "import os"
   ]
  },
  {
   "cell_type": "code",
   "execution_count": 2,
   "id": "f277b2ca",
   "metadata": {},
   "outputs": [
    {
     "name": "stdout",
     "output_type": "stream",
     "text": [
      "../../\n"
     ]
    }
   ],
   "source": [
    "DATA_FOLDER = \"../../\"\n",
    "if not isdir(DATA_FOLDER):\n",
    "    DATA_FOLDER = \"/kaggle/input\"\n",
    "print(DATA_FOLDER)"
   ]
  },
  {
   "cell_type": "code",
   "execution_count": 3,
   "id": "f2fc9520",
   "metadata": {},
   "outputs": [
    {
     "name": "stdout",
     "output_type": "stream",
     "text": [
      "Available data: \n",
      "['games.csv', 'pffScoutingData.csv', 'players.csv', 'plays.csv', 'week1.csv', 'week2.csv', 'week3.csv', 'week4.csv', 'week5.csv', 'week6.csv', 'week7.csv', 'week8.csv']\n"
     ]
    }
   ],
   "source": [
    "print(\"Available data: \")\n",
    "print(next(os.walk(join(DATA_FOLDER, \"nfl-big-data-bowl-2023\")))[2])"
   ]
  },
  {
   "cell_type": "code",
   "execution_count": 4,
   "id": "c4633a85",
   "metadata": {},
   "outputs": [],
   "source": [
    "# Read In csvs\n",
    "games = pd.read_csv(join(DATA_FOLDER, \"nfl-big-data-bowl-2023/games.csv\"))\n",
    "plays = pd.read_csv(join(DATA_FOLDER, \"nfl-big-data-bowl-2023/plays.csv\"))\n",
    "players = pd.read_csv(join(DATA_FOLDER, \"nfl-big-data-bowl-2023/players.csv\"))\n",
    "week1 = pd.read_csv(join(DATA_FOLDER, \"nfl-big-data-bowl-2023/week1.csv\"))\n",
    "pffScoutingData = pd.read_csv(join(DATA_FOLDER, \"nfl-big-data-bowl-2023/pffScoutingData.csv\"))\n",
    "joined_all = pd.merge(games,plays,how=\"inner\",on = \"gameId\")\n",
    "joined_all = pd.merge(joined_all,week1,how=\"inner\",on=[\"gameId\",\"playId\"])\n",
    "# left join on players to keep football records\n",
    "joined_all = pd.merge(joined_all,players,how=\"left\",on = \"nflId\")\n",
    "play_focus = 97\n",
    "focused_df = joined_all[(joined_all.playId==play_focus)]"
   ]
  },
  {
   "cell_type": "code",
   "execution_count": 5,
   "id": "94452123",
   "metadata": {},
   "outputs": [
    {
     "data": {
      "text/plain": [
       "(1118122, 28)"
      ]
     },
     "execution_count": 5,
     "metadata": {},
     "output_type": "execute_result"
    }
   ],
   "source": [
    "data = week1.merge(pffScoutingData, how=\"left\")\n",
    "data.shape"
   ]
  },
  {
   "cell_type": "code",
   "execution_count": 6,
   "id": "1e20be5f",
   "metadata": {},
   "outputs": [
    {
     "data": {
      "text/plain": [
       "Index(['gameId', 'playId', 'nflId', 'frameId', 'time', 'jerseyNumber', 'team',\n",
       "       'playDirection', 'x', 'y', 's', 'a', 'dis', 'o', 'dir', 'event',\n",
       "       'pff_role', 'pff_positionLinedUp', 'pff_hit', 'pff_hurry', 'pff_sack',\n",
       "       'pff_beatenByDefender', 'pff_hitAllowed', 'pff_hurryAllowed',\n",
       "       'pff_sackAllowed', 'pff_nflIdBlockedPlayer', 'pff_blockType',\n",
       "       'pff_backFieldBlock'],\n",
       "      dtype='object')"
      ]
     },
     "execution_count": 6,
     "metadata": {},
     "output_type": "execute_result"
    }
   ],
   "source": [
    "data.keys()"
   ]
  },
  {
   "cell_type": "code",
   "execution_count": null,
   "id": "ee85228a",
   "metadata": {},
   "outputs": [],
   "source": []
  }
 ],
 "metadata": {
  "kernelspec": {
   "display_name": "Python 3 (ipykernel)",
   "language": "python",
   "name": "python3"
  },
  "language_info": {
   "codemirror_mode": {
    "name": "ipython",
    "version": 3
   },
   "file_extension": ".py",
   "mimetype": "text/x-python",
   "name": "python",
   "nbconvert_exporter": "python",
   "pygments_lexer": "ipython3",
   "version": "3.8.13"
  }
 },
 "nbformat": 4,
 "nbformat_minor": 5
}
